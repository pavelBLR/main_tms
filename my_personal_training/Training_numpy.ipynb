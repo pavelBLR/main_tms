{
 "cells": [
  {
   "cell_type": "code",
   "execution_count": 1,
   "metadata": {
    "collapsed": true,
    "ExecuteTime": {
     "start_time": "2023-05-10T21:24:00.765965Z",
     "end_time": "2023-05-10T21:24:01.317599Z"
    }
   },
   "outputs": [
    {
     "name": "stdout",
     "output_type": "stream",
     "text": [
      "<class 'numpy.ndarray'>\n"
     ]
    }
   ],
   "source": [
    "#Команды по библиотеке numpy\n",
    "#Create array from list\n",
    "\n",
    "import numpy as np\n",
    "nums_list = [10,12,14,16,20]\n",
    "nums_array = np.array(nums_list)\n",
    "print(type(nums_array))\n"
   ]
  },
  {
   "cell_type": "code",
   "execution_count": 2,
   "outputs": [
    {
     "data": {
      "text/plain": "(3, 3)"
     },
     "execution_count": 2,
     "metadata": {},
     "output_type": "execute_result"
    }
   ],
   "source": [
    "#Create 2-d array\n",
    "\n",
    "row1 = [10,12,13]\n",
    "row2 = [45,32,16]\n",
    "row3 = [45,32,16]\n",
    "\n",
    "nums_2d = np.array([row1,row2,row3])\n",
    "nums_2d.shape"
   ],
   "metadata": {
    "collapsed": false,
    "ExecuteTime": {
     "start_time": "2023-05-10T21:27:23.602925Z",
     "end_time": "2023-05-10T21:27:23.638377Z"
    }
   }
  },
  {
   "cell_type": "code",
   "execution_count": 3,
   "outputs": [
    {
     "name": "stdout",
     "output_type": "stream",
     "text": [
      "[ 5  6  7  8  9 10]\n"
     ]
    }
   ],
   "source": [
    "#Create array\n",
    "\n",
    "nums_arr = np.arange(5,11)\n",
    "print(nums_arr)"
   ],
   "metadata": {
    "collapsed": false,
    "ExecuteTime": {
     "start_time": "2023-05-10T21:31:00.334323Z",
     "end_time": "2023-05-10T21:31:00.396004Z"
    }
   }
  },
  {
   "cell_type": "code",
   "execution_count": 5,
   "outputs": [
    {
     "name": "stdout",
     "output_type": "stream",
     "text": [
      "[ 5  7  9 11]\n"
     ]
    }
   ],
   "source": [
    "#Create array and define step (3-d parameter)\n",
    "\n",
    "nums_arr = np.arange(5,12,2)\n",
    "print(nums_arr)"
   ],
   "metadata": {
    "collapsed": false,
    "ExecuteTime": {
     "start_time": "2023-05-10T21:33:21.120581Z",
     "end_time": "2023-05-10T21:33:21.161676Z"
    }
   }
  },
  {
   "cell_type": "code",
   "execution_count": 7,
   "outputs": [
    {
     "name": "stdout",
     "output_type": "stream",
     "text": [
      "[[1. 1. 1. 1.]\n",
      " [1. 1. 1. 1.]\n",
      " [1. 1. 1. 1.]\n",
      " [1. 1. 1. 1.]\n",
      " [1. 1. 1. 1.]\n",
      " [1. 1. 1. 1.]]\n"
     ]
    }
   ],
   "source": [
    "#Ones method\n",
    "\n",
    "ones_array = np.ones((6,4))\n",
    "print(ones_array)"
   ],
   "metadata": {
    "collapsed": false,
    "ExecuteTime": {
     "start_time": "2023-05-10T21:35:20.780975Z",
     "end_time": "2023-05-10T21:35:20.809067Z"
    }
   }
  },
  {
   "cell_type": "code",
   "execution_count": 8,
   "outputs": [
    {
     "name": "stdout",
     "output_type": "stream",
     "text": [
      "[[1. 0. 0. 0. 0.]\n",
      " [0. 1. 0. 0. 0.]\n",
      " [0. 0. 1. 0. 0.]\n",
      " [0. 0. 0. 1. 0.]\n",
      " [0. 0. 0. 0. 1.]]\n"
     ]
    }
   ],
   "source": [
    "#The eye method\n",
    "\n",
    "eyes_array = np.eye(5)\n",
    "print(eyes_array)"
   ],
   "metadata": {
    "collapsed": false,
    "ExecuteTime": {
     "start_time": "2023-05-10T21:36:36.910079Z",
     "end_time": "2023-05-10T21:36:36.986884Z"
    }
   }
  },
  {
   "cell_type": "code",
   "execution_count": 9,
   "outputs": [
    {
     "name": "stdout",
     "output_type": "stream",
     "text": [
      "[[ 1.40992239 -0.1288839   1.28015859 -1.0560056  -0.34885488]\n",
      " [-0.17935048  0.48595777 -1.03889761 -2.12579171 -1.01410292]\n",
      " [ 0.36452516 -0.26150519 -0.67304663 -2.06566778  0.36943484]\n",
      " [-0.30186171  0.46632115  0.59504514  0.84967767  0.27205442]]\n"
     ]
    }
   ],
   "source": [
    "#Random method (normal distr)\n",
    "\n",
    "normal_random = np.random.randn(4,5)\n",
    "print(normal_random)"
   ],
   "metadata": {
    "collapsed": false,
    "ExecuteTime": {
     "start_time": "2023-05-10T21:38:22.183818Z",
     "end_time": "2023-05-10T21:38:22.211822Z"
    }
   }
  },
  {
   "cell_type": "code",
   "execution_count": 10,
   "outputs": [
    {
     "name": "stdout",
     "output_type": "stream",
     "text": [
      "[13 38 34  7 35 20]\n"
     ]
    },
    {
     "name": "stderr",
     "output_type": "stream",
     "text": [
      "C:\\Users\\Lenovo\\AppData\\Local\\Temp\\ipykernel_27684\\1689963911.py:3: DeprecationWarning: This function is deprecated. Please call randint(5, 50 + 1) instead\n",
      "  integer_random = np.random.random_integers(5,50,6)\n"
     ]
    }
   ],
   "source": [
    "#Random integers from ... to (! the upper number is not included i.e. for 50 it is necessary write 50+1 (51)\n",
    "\n",
    "integer_random = np.random.random_integers(5,50,6)\n",
    "print(integer_random)"
   ],
   "metadata": {
    "collapsed": false,
    "ExecuteTime": {
     "start_time": "2023-05-10T21:40:31.714109Z",
     "end_time": "2023-05-10T21:40:31.776636Z"
    }
   }
  },
  {
   "cell_type": "code",
   "execution_count": 11,
   "outputs": [
    {
     "name": "stdout",
     "output_type": "stream",
     "text": [
      "[ 1  2  3  4  5  6  7  8  9 10]\n"
     ]
    }
   ],
   "source": [
    "#Reshaping and slicing\n",
    "\n",
    "s = np.arange(1,11)\n",
    "print(s)"
   ],
   "metadata": {
    "collapsed": false,
    "ExecuteTime": {
     "start_time": "2023-05-10T21:43:55.768774Z",
     "end_time": "2023-05-10T21:43:55.856008Z"
    }
   }
  },
  {
   "cell_type": "code",
   "execution_count": 12,
   "outputs": [
    {
     "name": "stdout",
     "output_type": "stream",
     "text": [
      "2\n",
      "[2 3 4]\n",
      "[1 2 3 4 5]\n"
     ]
    }
   ],
   "source": [
    "print(s[1])\n",
    "\n",
    "print(s[1:4])\n",
    "\n",
    "print(s[:5])"
   ],
   "metadata": {
    "collapsed": false,
    "ExecuteTime": {
     "start_time": "2023-05-10T21:45:02.873077Z",
     "end_time": "2023-05-10T21:45:02.909136Z"
    }
   }
  },
  {
   "cell_type": "code",
   "execution_count": 13,
   "outputs": [
    {
     "name": "stdout",
     "output_type": "stream",
     "text": [
      "[[10 12 13]\n",
      " [45 32 16]\n",
      " [45 32 16]]\n",
      "[[10 12 13]\n",
      " [45 32 16]]\n",
      "[[32 16]\n",
      " [32 16]]\n"
     ]
    }
   ],
   "source": [
    "print(nums_2d)\n",
    "\n",
    "print(nums_2d[:2,:])\n",
    "\n",
    "print(nums_2d[1:,1:])"
   ],
   "metadata": {
    "collapsed": false,
    "ExecuteTime": {
     "start_time": "2023-05-10T21:47:21.113703Z",
     "end_time": "2023-05-10T21:47:21.177283Z"
    }
   }
  },
  {
   "cell_type": "code",
   "execution_count": null,
   "outputs": [],
   "source": [],
   "metadata": {
    "collapsed": false
   }
  }
 ],
 "metadata": {
  "kernelspec": {
   "display_name": "Python 3",
   "language": "python",
   "name": "python3"
  },
  "language_info": {
   "codemirror_mode": {
    "name": "ipython",
    "version": 2
   },
   "file_extension": ".py",
   "mimetype": "text/x-python",
   "name": "python",
   "nbconvert_exporter": "python",
   "pygments_lexer": "ipython2",
   "version": "2.7.6"
  }
 },
 "nbformat": 4,
 "nbformat_minor": 0
}
