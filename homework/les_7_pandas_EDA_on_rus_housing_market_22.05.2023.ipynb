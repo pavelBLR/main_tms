{
 "cells": [
  {
   "cell_type": "code",
   "execution_count": 1,
   "metadata": {
    "collapsed": true,
    "ExecuteTime": {
     "start_time": "2023-05-23T21:13:06.382938Z",
     "end_time": "2023-05-23T21:13:06.405586Z"
    }
   },
   "outputs": [],
   "source": [
    "# The task is to predict the target variable which is called price_doc in train.csv\n",
    "# The full description is available at https://www.kaggle.com/competitions/sberbank-russian-housing-market/data"
   ]
  },
  {
   "cell_type": "code",
   "execution_count": 21,
   "outputs": [
    {
     "data": {
      "text/plain": "          id   timestamp  full_sq  life_sq  floor  max_floor  material  \\\n0          1  2011-08-20       43     27.0    4.0        NaN       NaN   \n1          2  2011-08-23       34     19.0    3.0        NaN       NaN   \n2          3  2011-08-27       43     29.0    2.0        NaN       NaN   \n3          4  2011-09-01       89     50.0    9.0        NaN       NaN   \n4          5  2011-09-05       77     77.0    4.0        NaN       NaN   \n...      ...         ...      ...      ...    ...        ...       ...   \n30466  30469  2015-06-30       44     27.0    7.0        9.0       1.0   \n30467  30470  2015-06-30       86     59.0    3.0        9.0       2.0   \n30468  30471  2015-06-30       45      NaN   10.0       20.0       1.0   \n30469  30472  2015-06-30       64     32.0    5.0       15.0       1.0   \n30470  30473  2015-06-30       43     28.0    1.0        9.0       1.0   \n\n       build_year  num_room  kitch_sq  ...  cafe_count_5000_price_2500  \\\n0             NaN       NaN       NaN  ...                           9   \n1             NaN       NaN       NaN  ...                          15   \n2             NaN       NaN       NaN  ...                          10   \n3             NaN       NaN       NaN  ...                          11   \n4             NaN       NaN       NaN  ...                         319   \n...           ...       ...       ...  ...                         ...   \n30466      1975.0       2.0       6.0  ...                          15   \n30467      1935.0       4.0      10.0  ...                         313   \n30468         NaN       1.0       1.0  ...                           1   \n30469      2003.0       2.0      11.0  ...                          22   \n30470      1968.0       2.0       6.0  ...                           5   \n\n      cafe_count_5000_price_4000 cafe_count_5000_price_high  \\\n0                              4                          0   \n1                              3                          0   \n2                              3                          0   \n3                              2                          1   \n4                            108                         17   \n...                          ...                        ...   \n30466                          5                          0   \n30467                        128                         24   \n30468                          1                          0   \n30469                          1                          1   \n30470                          2                          0   \n\n       big_church_count_5000  church_count_5000  mosque_count_5000  \\\n0                         13                 22                  1   \n1                         15                 29                  1   \n2                         11                 27                  0   \n3                          4                  4                  0   \n4                        135                236                  2   \n...                      ...                ...                ...   \n30466                     15                 26                  1   \n30467                     98                182                  1   \n30468                      2                 12                  0   \n30469                      6                 31                  1   \n30470                      7                 16                  0   \n\n       leisure_count_5000  sport_count_5000  market_count_5000  price_doc  \n0                       0                52                  4    5850000  \n1                      10                66                 14    6000000  \n2                       4                67                 10    5700000  \n3                       0                26                  3   13100000  \n4                      91               195                 14   16331452  \n...                   ...               ...                ...        ...  \n30466                   2                84                  6    7400000  \n30467                  82               171                 15   25000000  \n30468                   1                11                  1    6970959  \n30469                   4                65                  7   13500000  \n30470                   9                54                 10    5600000  \n\n[30471 rows x 292 columns]",
      "text/html": "<div>\n<style scoped>\n    .dataframe tbody tr th:only-of-type {\n        vertical-align: middle;\n    }\n\n    .dataframe tbody tr th {\n        vertical-align: top;\n    }\n\n    .dataframe thead th {\n        text-align: right;\n    }\n</style>\n<table border=\"1\" class=\"dataframe\">\n  <thead>\n    <tr style=\"text-align: right;\">\n      <th></th>\n      <th>id</th>\n      <th>timestamp</th>\n      <th>full_sq</th>\n      <th>life_sq</th>\n      <th>floor</th>\n      <th>max_floor</th>\n      <th>material</th>\n      <th>build_year</th>\n      <th>num_room</th>\n      <th>kitch_sq</th>\n      <th>...</th>\n      <th>cafe_count_5000_price_2500</th>\n      <th>cafe_count_5000_price_4000</th>\n      <th>cafe_count_5000_price_high</th>\n      <th>big_church_count_5000</th>\n      <th>church_count_5000</th>\n      <th>mosque_count_5000</th>\n      <th>leisure_count_5000</th>\n      <th>sport_count_5000</th>\n      <th>market_count_5000</th>\n      <th>price_doc</th>\n    </tr>\n  </thead>\n  <tbody>\n    <tr>\n      <th>0</th>\n      <td>1</td>\n      <td>2011-08-20</td>\n      <td>43</td>\n      <td>27.0</td>\n      <td>4.0</td>\n      <td>NaN</td>\n      <td>NaN</td>\n      <td>NaN</td>\n      <td>NaN</td>\n      <td>NaN</td>\n      <td>...</td>\n      <td>9</td>\n      <td>4</td>\n      <td>0</td>\n      <td>13</td>\n      <td>22</td>\n      <td>1</td>\n      <td>0</td>\n      <td>52</td>\n      <td>4</td>\n      <td>5850000</td>\n    </tr>\n    <tr>\n      <th>1</th>\n      <td>2</td>\n      <td>2011-08-23</td>\n      <td>34</td>\n      <td>19.0</td>\n      <td>3.0</td>\n      <td>NaN</td>\n      <td>NaN</td>\n      <td>NaN</td>\n      <td>NaN</td>\n      <td>NaN</td>\n      <td>...</td>\n      <td>15</td>\n      <td>3</td>\n      <td>0</td>\n      <td>15</td>\n      <td>29</td>\n      <td>1</td>\n      <td>10</td>\n      <td>66</td>\n      <td>14</td>\n      <td>6000000</td>\n    </tr>\n    <tr>\n      <th>2</th>\n      <td>3</td>\n      <td>2011-08-27</td>\n      <td>43</td>\n      <td>29.0</td>\n      <td>2.0</td>\n      <td>NaN</td>\n      <td>NaN</td>\n      <td>NaN</td>\n      <td>NaN</td>\n      <td>NaN</td>\n      <td>...</td>\n      <td>10</td>\n      <td>3</td>\n      <td>0</td>\n      <td>11</td>\n      <td>27</td>\n      <td>0</td>\n      <td>4</td>\n      <td>67</td>\n      <td>10</td>\n      <td>5700000</td>\n    </tr>\n    <tr>\n      <th>3</th>\n      <td>4</td>\n      <td>2011-09-01</td>\n      <td>89</td>\n      <td>50.0</td>\n      <td>9.0</td>\n      <td>NaN</td>\n      <td>NaN</td>\n      <td>NaN</td>\n      <td>NaN</td>\n      <td>NaN</td>\n      <td>...</td>\n      <td>11</td>\n      <td>2</td>\n      <td>1</td>\n      <td>4</td>\n      <td>4</td>\n      <td>0</td>\n      <td>0</td>\n      <td>26</td>\n      <td>3</td>\n      <td>13100000</td>\n    </tr>\n    <tr>\n      <th>4</th>\n      <td>5</td>\n      <td>2011-09-05</td>\n      <td>77</td>\n      <td>77.0</td>\n      <td>4.0</td>\n      <td>NaN</td>\n      <td>NaN</td>\n      <td>NaN</td>\n      <td>NaN</td>\n      <td>NaN</td>\n      <td>...</td>\n      <td>319</td>\n      <td>108</td>\n      <td>17</td>\n      <td>135</td>\n      <td>236</td>\n      <td>2</td>\n      <td>91</td>\n      <td>195</td>\n      <td>14</td>\n      <td>16331452</td>\n    </tr>\n    <tr>\n      <th>...</th>\n      <td>...</td>\n      <td>...</td>\n      <td>...</td>\n      <td>...</td>\n      <td>...</td>\n      <td>...</td>\n      <td>...</td>\n      <td>...</td>\n      <td>...</td>\n      <td>...</td>\n      <td>...</td>\n      <td>...</td>\n      <td>...</td>\n      <td>...</td>\n      <td>...</td>\n      <td>...</td>\n      <td>...</td>\n      <td>...</td>\n      <td>...</td>\n      <td>...</td>\n      <td>...</td>\n    </tr>\n    <tr>\n      <th>30466</th>\n      <td>30469</td>\n      <td>2015-06-30</td>\n      <td>44</td>\n      <td>27.0</td>\n      <td>7.0</td>\n      <td>9.0</td>\n      <td>1.0</td>\n      <td>1975.0</td>\n      <td>2.0</td>\n      <td>6.0</td>\n      <td>...</td>\n      <td>15</td>\n      <td>5</td>\n      <td>0</td>\n      <td>15</td>\n      <td>26</td>\n      <td>1</td>\n      <td>2</td>\n      <td>84</td>\n      <td>6</td>\n      <td>7400000</td>\n    </tr>\n    <tr>\n      <th>30467</th>\n      <td>30470</td>\n      <td>2015-06-30</td>\n      <td>86</td>\n      <td>59.0</td>\n      <td>3.0</td>\n      <td>9.0</td>\n      <td>2.0</td>\n      <td>1935.0</td>\n      <td>4.0</td>\n      <td>10.0</td>\n      <td>...</td>\n      <td>313</td>\n      <td>128</td>\n      <td>24</td>\n      <td>98</td>\n      <td>182</td>\n      <td>1</td>\n      <td>82</td>\n      <td>171</td>\n      <td>15</td>\n      <td>25000000</td>\n    </tr>\n    <tr>\n      <th>30468</th>\n      <td>30471</td>\n      <td>2015-06-30</td>\n      <td>45</td>\n      <td>NaN</td>\n      <td>10.0</td>\n      <td>20.0</td>\n      <td>1.0</td>\n      <td>NaN</td>\n      <td>1.0</td>\n      <td>1.0</td>\n      <td>...</td>\n      <td>1</td>\n      <td>1</td>\n      <td>0</td>\n      <td>2</td>\n      <td>12</td>\n      <td>0</td>\n      <td>1</td>\n      <td>11</td>\n      <td>1</td>\n      <td>6970959</td>\n    </tr>\n    <tr>\n      <th>30469</th>\n      <td>30472</td>\n      <td>2015-06-30</td>\n      <td>64</td>\n      <td>32.0</td>\n      <td>5.0</td>\n      <td>15.0</td>\n      <td>1.0</td>\n      <td>2003.0</td>\n      <td>2.0</td>\n      <td>11.0</td>\n      <td>...</td>\n      <td>22</td>\n      <td>1</td>\n      <td>1</td>\n      <td>6</td>\n      <td>31</td>\n      <td>1</td>\n      <td>4</td>\n      <td>65</td>\n      <td>7</td>\n      <td>13500000</td>\n    </tr>\n    <tr>\n      <th>30470</th>\n      <td>30473</td>\n      <td>2015-06-30</td>\n      <td>43</td>\n      <td>28.0</td>\n      <td>1.0</td>\n      <td>9.0</td>\n      <td>1.0</td>\n      <td>1968.0</td>\n      <td>2.0</td>\n      <td>6.0</td>\n      <td>...</td>\n      <td>5</td>\n      <td>2</td>\n      <td>0</td>\n      <td>7</td>\n      <td>16</td>\n      <td>0</td>\n      <td>9</td>\n      <td>54</td>\n      <td>10</td>\n      <td>5600000</td>\n    </tr>\n  </tbody>\n</table>\n<p>30471 rows × 292 columns</p>\n</div>"
     },
     "execution_count": 21,
     "metadata": {},
     "output_type": "execute_result"
    }
   ],
   "source": [
    "# At first download (read) and analyze train.csv\n",
    "\n",
    "import pandas as pd\n",
    "\n",
    "train = pd.read_csv(r'C:\\Users\\Lenovo\\DataspellProjects\\main_tms\\data_rus_housing_market\\train.csv', on_bad_lines=\"warn\")\n",
    "train"
   ],
   "metadata": {
    "collapsed": false,
    "ExecuteTime": {
     "start_time": "2023-05-23T22:14:00.183731Z",
     "end_time": "2023-05-23T22:14:03.562919Z"
    }
   }
  },
  {
   "cell_type": "code",
   "execution_count": null,
   "outputs": [],
   "source": [],
   "metadata": {
    "collapsed": false
   }
  }
 ],
 "metadata": {
  "kernelspec": {
   "display_name": "Python 3",
   "language": "python",
   "name": "python3"
  },
  "language_info": {
   "codemirror_mode": {
    "name": "ipython",
    "version": 2
   },
   "file_extension": ".py",
   "mimetype": "text/x-python",
   "name": "python",
   "nbconvert_exporter": "python",
   "pygments_lexer": "ipython2",
   "version": "2.7.6"
  }
 },
 "nbformat": 4,
 "nbformat_minor": 0
}
