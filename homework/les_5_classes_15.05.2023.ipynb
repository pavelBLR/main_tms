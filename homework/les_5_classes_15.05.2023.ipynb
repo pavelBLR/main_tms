{
 "cells": [
  {
   "cell_type": "code",
   "execution_count": 1,
   "metadata": {
    "collapsed": true,
    "ExecuteTime": {
     "start_time": "2023-05-17T20:28:37.827823Z",
     "end_time": "2023-05-17T20:28:37.840496Z"
    }
   },
   "outputs": [],
   "source": [
    "### Classes (Animals)"
   ]
  },
  {
   "cell_type": "code",
   "execution_count": 32,
   "outputs": [],
   "source": [
    "class Animal:\n",
    "\n",
    "    def __init__(self, kind: str, structure=\"Spine\", science=\"Zoology\"):\n",
    "        self.structure = structure\n",
    "        self.science = science\n",
    "        self.kind = kind\n",
    "\n",
    "    def lifestyle(self):\n",
    "        print('Active movement')\n",
    "\n",
    "    def voice_choice(self):\n",
    "        if self.kind == \"Dog\":\n",
    "            print(\"Bark\")\n",
    "        if self.kind == \"Cat\":\n",
    "            print(\"Mew\")\n",
    "        if self.kind == \"Horse\":\n",
    "            print(\"Ihoo\")\n",
    "        if self.kind != \"Dog\" and self.kind != \"Cat\" and self.kind == \"Horse\":\n",
    "            print(\"Voice is unknown\")"
   ],
   "metadata": {
    "collapsed": false,
    "ExecuteTime": {
     "start_time": "2023-05-17T21:32:49.081376Z",
     "end_time": "2023-05-17T21:32:49.146713Z"
    }
   }
  },
  {
   "cell_type": "code",
   "execution_count": 20,
   "outputs": [
    {
     "name": "stdout",
     "output_type": "stream",
     "text": [
      "Spine\n",
      "Zoology\n",
      "Dog\n",
      "Bark\n"
     ]
    }
   ],
   "source": [
    "dog_jack = Animal(kind=\"Dog\")\n",
    "\n",
    "print(dog_jack.structure)\n",
    "print(dog_jack.science)\n",
    "print(dog_jack.kind)\n",
    "dog_jack.voice_choice()"
   ],
   "metadata": {
    "collapsed": false,
    "ExecuteTime": {
     "start_time": "2023-05-17T21:00:19.564491Z",
     "end_time": "2023-05-17T21:00:19.616506Z"
    }
   }
  },
  {
   "cell_type": "code",
   "execution_count": 31,
   "outputs": [
    {
     "name": "stdout",
     "output_type": "stream",
     "text": [
      "Dog Jack lives in town\n",
      "Horse Yuli lives in town\n"
     ]
    }
   ],
   "source": [
    "class Dog(Animal):\n",
    "\n",
    "    def __init__(self, name: str, residence: str, kind):\n",
    "        self.name = name\n",
    "        self.residence = residence\n",
    "        super().__init__(kind)\n",
    "\n",
    "class Cat(Animal):\n",
    "\n",
    "    def __init__(self, name: str, residence: str, kind):\n",
    "        self.name = name\n",
    "        self.residence = residence\n",
    "        super().__init__(kind)\n",
    "\n",
    "class Horse(Animal):\n",
    "\n",
    "    def __init__(self, name: str, residence: str, kind):\n",
    "        self.name = name\n",
    "        self.residence = residence\n",
    "        super().__init__(kind)\n",
    "\n",
    "dog_jack = Dog(\"Jack\", \"town\", \"Dog\")\n",
    "cat_myrz = Cat(\"Myrz\", \"village\", \"Cat\")\n",
    "horse_yuli = Horse(\"Yuli\",\"town\", \"Horse\")\n",
    "\n",
    "animals = [dog_jack, cat_myrz, horse_yuli]\n",
    "for animal in animals:\n",
    "    if animal.residence == \"town\":\n",
    "        print(f\"{animal.kind} {animal.name} lives in {animal.residence}\")"
   ],
   "metadata": {
    "collapsed": false,
    "ExecuteTime": {
     "start_time": "2023-05-17T21:31:16.052506Z",
     "end_time": "2023-05-17T21:31:16.099393Z"
    }
   }
  },
  {
   "cell_type": "code",
   "execution_count": null,
   "outputs": [],
   "source": [],
   "metadata": {
    "collapsed": false
   }
  }
 ],
 "metadata": {
  "kernelspec": {
   "display_name": "Python 3",
   "language": "python",
   "name": "python3"
  },
  "language_info": {
   "codemirror_mode": {
    "name": "ipython",
    "version": 2
   },
   "file_extension": ".py",
   "mimetype": "text/x-python",
   "name": "python",
   "nbconvert_exporter": "python",
   "pygments_lexer": "ipython2",
   "version": "2.7.6"
  }
 },
 "nbformat": 4,
 "nbformat_minor": 0
}
